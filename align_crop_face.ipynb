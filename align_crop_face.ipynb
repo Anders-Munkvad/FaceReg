{
 "cells": [
  {
   "cell_type": "markdown",
   "id": "167cb5b3",
   "metadata": {},
   "source": [
    "# Align and crop a face in an image using dlib"
   ]
  },
  {
   "cell_type": "code",
   "execution_count": null,
   "id": "31d26e79",
   "metadata": {},
   "outputs": [],
   "source": [
    "import cv2\n",
    "import dlib\n",
    "import numpy as np\n",
    "import imutils\n",
    "from imutils.face_utils import shape_to_np"
   ]
  },
  {
   "cell_type": "code",
   "execution_count": null,
   "id": "0ae30575",
   "metadata": {},
   "outputs": [],
   "source": [
    "import dlib\n",
    "print(dlib.__version__)\n"
   ]
  },
  {
   "cell_type": "code",
   "execution_count": null,
   "id": "ce70e52c",
   "metadata": {},
   "outputs": [],
   "source": [
    "detector = dlib.get_frontal_face_detector()\n",
    "predictor = dlib.shape_predictor('shape_predictor_5_face_landmarks.dat')"
   ]
  },
  {
   "cell_type": "code",
   "execution_count": null,
   "id": "bdf51474",
   "metadata": {},
   "outputs": [],
   "source": [
    "def align_face(image, landmarks, desired_left_eye=(0.35, 0.35), output_size=(224, 224)):\n",
    "    # Extract the left and right eye coordinates\n",
    "    left_eye_pts = landmarks[36:42]\n",
    "    right_eye_pts = landmarks[42:48]\n",
    "\n",
    "    left_eye_center = left_eye_pts.mean(axis=0).astype(\"int\")\n",
    "    right_eye_center = right_eye_pts.mean(axis=0).astype(\"int\")\n",
    "\n",
    "    # Compute the angle between the eyes\n",
    "    dY = right_eye_center[1] - left_eye_center[1]\n",
    "    dX = right_eye_center[0] - left_eye_center[0]\n",
    "    angle = np.degrees(np.arctan2(dY, dX))  # rotation angle\n",
    "\n",
    "    # Desired distance between eyes\n",
    "    desired_dist = (1.0 - 2 * desired_left_eye[0]) * output_size[0]\n",
    "    actual_dist = np.linalg.norm(right_eye_center - left_eye_center)\n",
    "    scale = desired_dist / actual_dist\n",
    "\n",
    "    # Compute center between eyes - used as center of rotation\n",
    "    eyes_center = ((left_eye_center[0] + right_eye_center[0]) // 2,\n",
    "                   (left_eye_center[1] + right_eye_center[1]) // 2)\n",
    "\n",
    "    # Get rotation matrix\n",
    "    M = cv2.getRotationMatrix2D(eyes_center, angle, scale)\n",
    "\n",
    "    # Adjust translation\n",
    "    tX = output_size[0] * 0.5\n",
    "    tY = output_size[1] * desired_left_eye[1]\n",
    "    M[0, 2] += (tX - eyes_center[0])\n",
    "    M[1, 2] += (tY - eyes_center[1])\n",
    "\n",
    "    # Apply affine transformation\n",
    "    aligned = cv2.warpAffine(image, M, output_size, flags=cv2.INTER_CUBIC)\n",
    "\n",
    "    return aligned\n",
    "\n",
    "def detect_align_crop(image_path, save_path=\"aligned_face.jpg\"):\n",
    "    image = cv2.imread(image_path)\n",
    "    gray = cv2.cvtColor(image, cv2.COLOR_BGR2GRAY)\n",
    "\n",
    "    rects = detector(gray, 1)\n",
    "    if len(rects) == 0:\n",
    "        print(\"No face detected.\")\n",
    "        return\n",
    "\n",
    "    rect = rects[0]  # Take the first face\n",
    "    shape = predictor(gray, rect)\n",
    "    landmarks = shape_to_np(shape)\n",
    "\n",
    "    aligned_face = align_face(image, landmarks)\n",
    "    cv2.imwrite(save_path, aligned_face)\n",
    "    print(f\"Aligned face saved to {save_path}\")"
   ]
  },
  {
   "cell_type": "code",
   "execution_count": null,
   "id": "1b856a46",
   "metadata": {},
   "outputs": [],
   "source": [
    "# Test:\n",
    "detect_align_crop(\"test_face.jpg\")"
   ]
  }
 ],
 "metadata": {
  "kernelspec": {
   "display_name": "adl",
   "language": "python",
   "name": "python3"
  },
  "language_info": {
   "codemirror_mode": {
    "name": "ipython",
    "version": 3
   },
   "file_extension": ".py",
   "mimetype": "text/x-python",
   "name": "python",
   "nbconvert_exporter": "python",
   "pygments_lexer": "ipython3",
   "version": "3.11.7"
  }
 },
 "nbformat": 4,
 "nbformat_minor": 5
}
