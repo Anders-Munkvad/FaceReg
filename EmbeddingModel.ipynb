{
  "nbformat": 4,
  "nbformat_minor": 0,
  "metadata": {
    "colab": {
      "provenance": [],
      "machine_shape": "hm",
      "gpuType": "A100",
      "authorship_tag": "ABX9TyMh+50Idtht4IbEX9LITRyl"
    },
    "kernelspec": {
      "name": "python3",
      "display_name": "Python 3"
    },
    "language_info": {
      "name": "python"
    }
  },
  "cells": [
    {
      "cell_type": "code",
      "execution_count": 1,
      "metadata": {
        "colab": {
          "base_uri": "https://localhost:8080/"
        },
        "id": "Ek_bFmSMwfD3",
        "outputId": "7362d6af-ba24-49b1-bd1c-fb6a2e6b9b79"
      },
      "outputs": [
        {
          "output_type": "stream",
          "name": "stdout",
          "text": [
            "Mounted at /content/drive\n"
          ]
        }
      ],
      "source": [
        "# Clone the Git into drive\n",
        "\n",
        "from google.colab import drive\n",
        "drive.mount('/content/drive')"
      ]
    },
    {
      "cell_type": "code",
      "source": [
        "import os\n",
        "from getpass import getpass\n",
        "\n",
        "# Prompt for GitHub token (invisible input)\n",
        "token = getpass('Enter your GitHub token: ')\n",
        "username = \"Anders-Munkvad\"\n",
        "repo = \"FaceReg\"\n",
        "\n",
        "# Clone the repo using the token\n",
        "os.system(f'git clone https://{token}@github.com/{username}/{repo}.git')\n"
      ],
      "metadata": {
        "colab": {
          "base_uri": "https://localhost:8080/"
        },
        "id": "Gk__QZttyz48",
        "outputId": "2617557c-277d-46c5-f41f-f3f3807a1c10"
      },
      "execution_count": null,
      "outputs": [
        {
          "name": "stdout",
          "output_type": "stream",
          "text": [
            "Enter your GitHub token: ··········\n"
          ]
        },
        {
          "output_type": "execute_result",
          "data": {
            "text/plain": [
              "0"
            ]
          },
          "metadata": {},
          "execution_count": 2
        }
      ]
    },
    {
      "cell_type": "code",
      "source": [
        "from torchvision.datasets import ImageFolder\n",
        "from torchvision import transforms\n",
        "from torch.utils.data import DataLoader\n",
        "import os\n",
        "\n",
        "# Ignore .ipynb_checkpoints\n",
        "class CleanImageFolder(ImageFolder):\n",
        "    def find_classes(self, directory):\n",
        "        # Only keep valid class folders (skip hidden folders like .ipynb_checkpoints)\n",
        "        classes = [d for d in os.listdir(directory) if os.path.isdir(os.path.join(directory, d)) and not d.startswith('.')]\n",
        "        classes.sort()\n",
        "        class_to_idx = {cls_name: i for i, cls_name in enumerate(classes)}\n",
        "        return classes, class_to_idx\n",
        "\n",
        "# Path to your training data\n",
        "dataset_path = '/content/drive/MyDrive/vggface2_cached/train'\n",
        "\n",
        "# Transforms\n",
        "transform = transforms.Compose([\n",
        "    transforms.Resize((224, 224)),\n",
        "    transforms.ToTensor(),\n",
        "    transforms.Normalize([0.5]*3, [0.5]*3)\n",
        "])\n",
        "\n",
        "# Use the cleaned version of ImageFolder\n",
        "dataset = CleanImageFolder(root=dataset_path, transform=transform)\n",
        "loader = DataLoader(dataset, batch_size=32, shuffle=True)\n"
      ],
      "metadata": {
        "id": "zskgD_SmOb8c"
      },
      "execution_count": 5,
      "outputs": []
    },
    {
      "cell_type": "code",
      "source": [
        "# Optional: quick sanity check\n",
        "print(f\"Number of classes: {len(dataset.classes)}\")\n",
        "print(f\"First 5 class names: {dataset.classes[:5]}\")\n",
        "print(f\"Total images: {len(dataset)}\")"
      ],
      "metadata": {
        "id": "BZXYnydMTrE9",
        "outputId": "4763f6f0-5b5d-4afd-e92b-52b039999da4",
        "colab": {
          "base_uri": "https://localhost:8080/"
        }
      },
      "execution_count": 6,
      "outputs": [
        {
          "output_type": "stream",
          "name": "stdout",
          "text": [
            "Number of classes: 48\n",
            "First 5 class names: ['n000008', 'n000013', 'n000014', 'n000021', 'n000024']\n",
            "Total images: 17314\n"
          ]
        }
      ]
    }
  ]
}