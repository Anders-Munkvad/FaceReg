{
  "nbformat": 4,
  "nbformat_minor": 0,
  "metadata": {
    "colab": {
      "provenance": [],
      "machine_shape": "hm",
      "gpuType": "A100",
      "authorship_tag": "ABX9TyNLBGA0ksS+1wz3eAr5SYqM",
      "include_colab_link": true
    },
    "kernelspec": {
      "name": "python3",
      "display_name": "Python 3"
    },
    "language_info": {
      "name": "python"
    }
  },
  "cells": [
    {
      "cell_type": "markdown",
      "metadata": {
        "id": "view-in-github",
        "colab_type": "text"
      },
      "source": [
        "<a href=\"https://colab.research.google.com/github/Anders-Munkvad/FaceReg/blob/main/EmbeddingModel.ipynb\" target=\"_parent\"><img src=\"https://colab.research.google.com/assets/colab-badge.svg\" alt=\"Open In Colab\"/></a>"
      ]
    },
    {
      "cell_type": "code",
      "execution_count": 1,
      "metadata": {
        "colab": {
          "base_uri": "https://localhost:8080/"
        },
        "id": "Ek_bFmSMwfD3",
        "outputId": "c5a2cd08-44f2-4dfb-ee84-50c67224b011"
      },
      "outputs": [
        {
          "output_type": "stream",
          "name": "stdout",
          "text": [
            "Mounted at /content/drive\n"
          ]
        }
      ],
      "source": [
        "# Clone the Git into drive\n",
        "\n",
        "from google.colab import drive\n",
        "drive.mount('/content/drive')"
      ]
    },
    {
      "cell_type": "code",
      "source": [
        "import os\n",
        "from getpass import getpass\n",
        "\n",
        "# Prompt for GitHub token (invisible input)\n",
        "token = getpass('Enter your GitHub token: ')\n",
        "username = \"Anders-Munkvad\"\n",
        "repo = \"FaceReg\"\n",
        "\n",
        "# Clone the repo using the token\n",
        "os.system(f'git clone https://{token}@github.com/{username}/{repo}.git')\n"
      ],
      "metadata": {
        "colab": {
          "base_uri": "https://localhost:8080/"
        },
        "id": "Gk__QZttyz48",
        "outputId": "2617557c-277d-46c5-f41f-f3f3807a1c10"
      },
      "execution_count": 2,
      "outputs": [
        {
          "name": "stdout",
          "output_type": "stream",
          "text": [
            "Enter your GitHub token: ··········\n"
          ]
        },
        {
          "output_type": "execute_result",
          "data": {
            "text/plain": [
              "0"
            ]
          },
          "metadata": {},
          "execution_count": 2
        }
      ]
    },
    {
      "cell_type": "code",
      "source": [
        "# Use with pytorch:\n",
        "\n",
        "from torchvision.datasets import ImageFolder\n",
        "from torchvision import transforms\n",
        "from torch.utils.data import DataLoader\n",
        "\n",
        "transform = transforms.Compose([\n",
        "    transforms.Resize((224, 224)), # Important - input images need to be of the same size as these, obviously\n",
        "    transforms.ToTensor(),\n",
        "    transforms.Normalize([0.5]*3, [0.5]*3)\n",
        "])\n",
        "\n",
        "# Choose correct path: root='/content/drive/MyDrive/vggface2_cached/vggface2' (?)\n",
        "dataset = ImageFolder(root='vggface2_data', transform=transform)\n",
        "loader = DataLoader(dataset, batch_size=32, shuffle=True)\n"
      ],
      "metadata": {
        "id": "zskgD_SmOb8c"
      },
      "execution_count": null,
      "outputs": []
    },
    {
      "cell_type": "code",
      "source": [
        "# How to access dataset - :\n",
        "# https://www.kaggle.com/datasets/hearfool/vggface2/data\n",
        "dataset = ImageFolder(root='/content/drive/MyDrive/vggface2_cached/vggface2', transform=transform)"
      ],
      "metadata": {
        "id": "mEf4aIvbQFSu"
      },
      "execution_count": null,
      "outputs": []
    }
  ]
}